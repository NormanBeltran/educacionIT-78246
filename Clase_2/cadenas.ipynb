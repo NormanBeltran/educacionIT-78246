{
 "cells": [
  {
   "cell_type": "code",
   "execution_count": 8,
   "id": "4f0b2ca2",
   "metadata": {},
   "outputs": [
    {
     "name": "stdout",
     "output_type": "stream",
     "text": [
      "      joSE de SAN martin\n"
     ]
    }
   ],
   "source": [
    "nombre = \"      joSE de SAN martin\"\n",
    "print(nombre)"
   ]
  },
  {
   "cell_type": "code",
   "execution_count": 2,
   "id": "acad069e",
   "metadata": {},
   "outputs": [
    {
     "data": {
      "text/plain": [
       "'jose de san martin'"
      ]
     },
     "execution_count": 2,
     "metadata": {},
     "output_type": "execute_result"
    }
   ],
   "source": [
    "nombre.strip()"
   ]
  },
  {
   "cell_type": "code",
   "execution_count": 3,
   "id": "426e66db",
   "metadata": {},
   "outputs": [
    {
     "data": {
      "text/plain": [
       "'      JOSE DE SAN MARTIN'"
      ]
     },
     "execution_count": 3,
     "metadata": {},
     "output_type": "execute_result"
    }
   ],
   "source": [
    "nombre.upper()"
   ]
  },
  {
   "cell_type": "code",
   "execution_count": 4,
   "id": "14eeb072",
   "metadata": {},
   "outputs": [
    {
     "data": {
      "text/plain": [
       "'JOSE DE SAN MARTIN'"
      ]
     },
     "execution_count": 4,
     "metadata": {},
     "output_type": "execute_result"
    }
   ],
   "source": [
    "nombre.strip().upper()"
   ]
  },
  {
   "cell_type": "code",
   "execution_count": 5,
   "id": "5cb2ec2d",
   "metadata": {},
   "outputs": [
    {
     "data": {
      "text/plain": [
       "'      jose de san martin'"
      ]
     },
     "execution_count": 5,
     "metadata": {},
     "output_type": "execute_result"
    }
   ],
   "source": [
    "nombre.lower()"
   ]
  },
  {
   "cell_type": "code",
   "execution_count": 6,
   "id": "1f3e5234",
   "metadata": {},
   "outputs": [
    {
     "data": {
      "text/plain": [
       "'      Jose De San Martin'"
      ]
     },
     "execution_count": 6,
     "metadata": {},
     "output_type": "execute_result"
    }
   ],
   "source": [
    "nombre.title()"
   ]
  },
  {
   "cell_type": "code",
   "execution_count": 9,
   "id": "64a1e47d",
   "metadata": {},
   "outputs": [
    {
     "data": {
      "text/plain": [
       "'      JOse DE san MARTIN'"
      ]
     },
     "execution_count": 9,
     "metadata": {},
     "output_type": "execute_result"
    }
   ],
   "source": [
    "nombre.swapcase()"
   ]
  },
  {
   "cell_type": "code",
   "execution_count": 10,
   "id": "116edb93",
   "metadata": {},
   "outputs": [
    {
     "data": {
      "text/plain": [
       "'      joSE de SAN rodriguez'"
      ]
     },
     "execution_count": 10,
     "metadata": {},
     "output_type": "execute_result"
    }
   ],
   "source": [
    "nombre.replace(\"martin\", \"rodriguez\")"
   ]
  },
  {
   "cell_type": "code",
   "execution_count": 12,
   "id": "983a318f",
   "metadata": {},
   "outputs": [
    {
     "data": {
      "text/plain": [
       "['A', 'B', 'C', 'D', 'E', 'F', 'G']"
      ]
     },
     "execution_count": 12,
     "metadata": {},
     "output_type": "execute_result"
    }
   ],
   "source": [
    "cadena = \"A,B,C,D,E,F,G\"\n",
    "cadena.split(\",\")"
   ]
  },
  {
   "cell_type": "code",
   "execution_count": 13,
   "id": "074bfd4b",
   "metadata": {},
   "outputs": [
    {
     "data": {
      "text/plain": [
       "4"
      ]
     },
     "execution_count": 13,
     "metadata": {},
     "output_type": "execute_result"
    }
   ],
   "source": [
    "cadena.find(\"C\")"
   ]
  },
  {
   "cell_type": "code",
   "execution_count": 14,
   "id": "821c6a26",
   "metadata": {},
   "outputs": [
    {
     "data": {
      "text/plain": [
       "True"
      ]
     },
     "execution_count": 14,
     "metadata": {},
     "output_type": "execute_result"
    }
   ],
   "source": [
    "cadena.startswith(\"A\")"
   ]
  },
  {
   "cell_type": "code",
   "execution_count": 15,
   "id": "66ab8d26",
   "metadata": {},
   "outputs": [
    {
     "data": {
      "text/plain": [
       "False"
      ]
     },
     "execution_count": 15,
     "metadata": {},
     "output_type": "execute_result"
    }
   ],
   "source": [
    "cadena.endswith(\"J\")"
   ]
  },
  {
   "cell_type": "code",
   "execution_count": 16,
   "id": "88e114a8",
   "metadata": {},
   "outputs": [
    {
     "name": "stdout",
     "output_type": "stream",
     "text": [
      "Hola\n",
      "Bienvenidos al curso de Python Avanzado\n",
      "Prof Norman Beltran\n",
      "Curso Sabados\n"
     ]
    }
   ],
   "source": [
    "print(\"Hola\\nBienvenidos al curso de Python Avanzado\\nProf Norman Beltran\\nCurso Sabados\")"
   ]
  },
  {
   "cell_type": "code",
   "execution_count": 17,
   "id": "4da01f4d",
   "metadata": {},
   "outputs": [
    {
     "name": "stdout",
     "output_type": "stream",
     "text": [
      "Hola\tComo estas?\tBienvenido al curso de Python\n"
     ]
    }
   ],
   "source": [
    "print(\"Hola\\tComo estas?\\tBienvenido al curso de Python\")"
   ]
  },
  {
   "cell_type": "code",
   "execution_count": 18,
   "id": "688285bc",
   "metadata": {},
   "outputs": [
    {
     "name": "stdout",
     "output_type": "stream",
     "text": [
      "HolComo estas?\n"
     ]
    }
   ],
   "source": [
    "print(\"Hola\\bComo estas?\")"
   ]
  },
  {
   "cell_type": "code",
   "execution_count": 19,
   "id": "59c75cfa",
   "metadata": {},
   "outputs": [
    {
     "data": {
      "text/plain": [
       "'Dios no ju'"
      ]
     },
     "execution_count": 19,
     "metadata": {},
     "output_type": "execute_result"
    }
   ],
   "source": [
    "# Slicing\n",
    "\n",
    "frase = \"Dios no juega a los dados 'Albert Einstein' \"\n",
    "\n",
    "frase[0:10]"
   ]
  },
  {
   "cell_type": "code",
   "execution_count": 21,
   "id": "c3631232",
   "metadata": {},
   "outputs": [
    {
     "data": {
      "text/plain": [
       "'yoh agoy ogah oy'"
      ]
     },
     "execution_count": 21,
     "metadata": {},
     "output_type": "execute_result"
    }
   ],
   "source": [
    "fruta = \"banana\"\n",
    "frase = \"yo hago yoga hoy\"\n",
    "\n",
    "frase[::-1]"
   ]
  },
  {
   "cell_type": "code",
   "execution_count": 24,
   "id": "ba51b7c0",
   "metadata": {},
   "outputs": [
    {
     "name": "stdout",
     "output_type": "stream",
     "text": [
      "JOSE Perez\n",
      "JOSE Perez\n",
      "JOSE Perez\n",
      "110\n"
     ]
    }
   ],
   "source": [
    "nombre = \"JOSE\"\n",
    "apellido = \"Perez\"\n",
    "\n",
    "print(nombre + \" \" + apellido)\n",
    "print(nombre, apellido)\n",
    "print(f\"{nombre} {apellido}\")\n",
    "print(f\"{10+20*5}\")"
   ]
  },
  {
   "cell_type": "code",
   "execution_count": null,
   "id": "ee4f16cf",
   "metadata": {},
   "outputs": [
    {
     "name": "stdout",
     "output_type": "stream",
     "text": [
      "El saldo es: 12345.6789\n",
      "El saldo es:   12345.68\n",
      "El saldo es: 12345.68  \n"
     ]
    }
   ],
   "source": [
    "saldo = 12345.6789\n",
    "print(f\"El saldo es: {saldo}\")\n",
    "print(f\"El saldo es: {saldo:>10.2f}\")\n",
    "print(f\"El saldo es: {saldo:<10.2f}\")"
   ]
  },
  {
   "cell_type": "code",
   "execution_count": null,
   "id": "07c9c33b",
   "metadata": {},
   "outputs": [],
   "source": []
  }
 ],
 "metadata": {
  "kernelspec": {
   "display_name": "base",
   "language": "python",
   "name": "python3"
  },
  "language_info": {
   "codemirror_mode": {
    "name": "ipython",
    "version": 3
   },
   "file_extension": ".py",
   "mimetype": "text/x-python",
   "name": "python",
   "nbconvert_exporter": "python",
   "pygments_lexer": "ipython3",
   "version": "3.12.7"
  }
 },
 "nbformat": 4,
 "nbformat_minor": 5
}
