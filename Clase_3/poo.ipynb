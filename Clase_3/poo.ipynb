{
 "cells": [
  {
   "cell_type": "code",
   "execution_count": 6,
   "id": "3abf058b",
   "metadata": {},
   "outputs": [
    {
     "name": "stdout",
     "output_type": "stream",
     "text": [
      "Pepe 7\n",
      "Aprobado Felicitaciones!\n",
      "Desaprobado, lo lamento!\n"
     ]
    }
   ],
   "source": [
    "class Alumno:\n",
    "\n",
    "    def __init__(self, nombre, nota):\n",
    "        self.nombre = nombre\n",
    "        self.nota = nota\n",
    "\n",
    "    def aprobo(self):\n",
    "        aprobado = True\n",
    "        if self.nota < 6:\n",
    "            aprobado = False\n",
    "        return aprobado\n",
    "\n",
    "    def __str__(self):\n",
    "        return f\"Nombre: {self.nombre}, Nota: {self.nota}\"\n",
    "\n",
    "pepe = Alumno(\"Pepe\", 7)    \n",
    "maria = Alumno(\"Maria\", 5)\n",
    " \n",
    "print(pepe.nombre, pepe.nota)   \n",
    "#print(type(pepe))\n",
    "\n",
    "if pepe.aprobo():\n",
    "    print(\"Aprobado Felicitaciones!\")\n",
    "else:\n",
    "    print(\"Desaprobado, lo lamento!\")\n",
    "    \n",
    "if maria.aprobo():\n",
    "    print(\"Aprobado Felicitaciones!\")\n",
    "else:\n",
    "    print(\"Desaprobado, lo lamento!\")\n"
   ]
  },
  {
   "cell_type": "markdown",
   "id": "229db552",
   "metadata": {},
   "source": [
    "# Encapsulamiento\n",
    "\n",
    "- Hace referencia al ocultamiento de los atributos de un objeto"
   ]
  },
  {
   "cell_type": "markdown",
   "id": "bfb98227",
   "metadata": {},
   "source": []
  },
  {
   "cell_type": "code",
   "execution_count": 7,
   "id": "93ef43aa",
   "metadata": {},
   "outputs": [
    {
     "name": "stdout",
     "output_type": "stream",
     "text": [
      "Jose Perez 1000\n"
     ]
    }
   ],
   "source": [
    "class Empleado:\n",
    "    def __init__(self, nombre, salario):\n",
    "        self.__nombre = nombre\n",
    "        self.__salario = salario\n",
    "\n",
    "    def getnombre(self):\n",
    "        return self.__nombre\n",
    "\n",
    "    def getsalario(self):\n",
    "        return self.__salario\n",
    "\n",
    "    def setnombre(self, nombre):\n",
    "        self.__nombre = nombre\n",
    "\n",
    "    def setsalario(self, salario):\n",
    "        self.__salario = salario\n",
    "\n",
    "    def delnombre(self):\n",
    "        del self.__nombre\n",
    "\n",
    "    def delsalario(self):\n",
    "        del self.__salario\n",
    "\n",
    "jose = Empleado(\"Jose Perez\", 1000)\n",
    "print(jose.getnombre(), jose.getsalario())"
   ]
  },
  {
   "cell_type": "markdown",
   "id": "d88145cb",
   "metadata": {},
   "source": [
    "# Herencia\n",
    "\n",
    "- Permite crear nuevas clases a partir de otras ya existentes"
   ]
  },
  {
   "cell_type": "code",
   "execution_count": 8,
   "id": "f0cc1ad7",
   "metadata": {},
   "outputs": [
    {
     "name": "stdout",
     "output_type": "stream",
     "text": [
      "1 1000\n"
     ]
    }
   ],
   "source": [
    "class ClaseA:\n",
    "     def __init__(self):\n",
    "        self.a = 1\n",
    "\n",
    "class ClaseB(ClaseA):\n",
    "     def __init__(self):\n",
    "        super().__init__() # Para que herede los atributos de la clase A en el init\n",
    "        self.b = 1000\n",
    "\n",
    "mi_objeto = ClaseB()\n",
    "print(mi_objeto.a, mi_objeto.b)"
   ]
  },
  {
   "cell_type": "markdown",
   "id": "c9c7e6fe",
   "metadata": {},
   "source": [
    "# Polimorfismo\n",
    "\n",
    "- Capacidad que distintas clases tengan un mismo nombre de metodo, pero se resuelvan de diferente manera"
   ]
  },
  {
   "cell_type": "code",
   "execution_count": 10,
   "id": "d960857f",
   "metadata": {},
   "outputs": [
    {
     "name": "stdout",
     "output_type": "stream",
     "text": [
      "Ladra y dice Guau\n",
      "Maulla y dice Miau\n"
     ]
    }
   ],
   "source": [
    "class Animal:\n",
    "\n",
    "    def __init__(self, nombre):\n",
    "        self.nombre = nombre\n",
    "\n",
    "    def hacer_sonido(self):\n",
    "        pass\n",
    "\n",
    "class Perro(Animal):\n",
    "    def hacer_sonido(self):\n",
    "        return \"Ladra y dice Guau\"\n",
    "\n",
    "class Gato(Animal):\n",
    "    def hacer_sonido(self):\n",
    "        return \"Maulla y dice Miau\"\n",
    "\n",
    "mi_perro = Perro(\"Kimchi\")\n",
    "mi_gato = Gato(\"July\")\n",
    "\n",
    "print(mi_perro.hacer_sonido())\n",
    "print(mi_gato.hacer_sonido())   "
   ]
  },
  {
   "cell_type": "code",
   "execution_count": 16,
   "id": "d70dd6d3",
   "metadata": {},
   "outputs": [
    {
     "name": "stdout",
     "output_type": "stream",
     "text": [
      "Se esta borrando el Círculo de radio 4\n",
      "Se esta borrando el Círculo de radio 6\n",
      "25 20\n",
      "6 10\n",
      "50.24 25.12\n",
      "113.04 37.68\n",
      "62.8\n",
      "50\n"
     ]
    }
   ],
   "source": [
    "class Figura:\n",
    "    tipo = \"Figura\"\n",
    "    __atributo_privado = \"Soy un atributo inalcanzable desde fuera.\"\n",
    "    def area(self):\n",
    "        pass\n",
    "    def perímetro(self):\n",
    "        pass\n",
    "    def __str__(self):\n",
    "        pass\n",
    "\n",
    "class Rectangulo(Figura):\n",
    "    def __init__(self, base, altura):\n",
    "        self.base = base\n",
    "        self.altura = altura\n",
    "\n",
    "    def area(self):\n",
    "        return self.base * self.altura\n",
    "\n",
    "    def perimetro(self):\n",
    "        return (self.base * 2) + (self.altura * 2)\n",
    "\n",
    "    def __str__(self):\n",
    "        nombre =  \"Rectangulo de base \" + str(self.base) + \" y altura \" + str(self.altura)\n",
    "        return nombre\n",
    "\n",
    "class Cuadrado(Figura):\n",
    "    def __init__(self, lado):\n",
    "        self.lado = lado\n",
    "\n",
    "    def area(self):\n",
    "        return self.lado * self.lado\n",
    "\n",
    "    def perimetro(self):\n",
    "        return self.lado * 4\n",
    "\n",
    "    def __str__(self):\n",
    "        nombre = \"Cuadrado de lado \" + str(self.lado)\n",
    "        return nombre\n",
    "\n",
    "class Circulo(Figura):\n",
    "    \"\"\"\n",
    "       Circulo(radio)\n",
    "\n",
    "       Documentación de Circulo\n",
    "    \"\"\"\n",
    "    def __init__(self, radio):\n",
    "        self.radio = radio\n",
    "\n",
    "    def area(self):\n",
    "        return self.radio**2 * 3.14\n",
    "\n",
    "    def perimetro(self):\n",
    "        return self.radio*2 * 3.14\n",
    "\n",
    "    def __str__(self):\n",
    "        nombre = \"Círculo de radio \" + str(self.radio)\n",
    "        return nombre\n",
    "\n",
    "    def __add__(self, obj):\n",
    "        return self.perimetro() + obj.perimetro()\n",
    "\n",
    "    def __del__(self):\n",
    "        print(f\"Se esta borrando el Círculo de radio {self.radio}\")\n",
    "\n",
    "    def __len__(self):\n",
    "        return int(self.area())\n",
    "\n",
    "class Rombo(Figura):\n",
    "    pass\n",
    "\n",
    "cua = Cuadrado(5)\n",
    "cua2 = Cuadrado(8)\n",
    "rec = Rectangulo(2, 3)\n",
    "cir = Circulo(4)\n",
    "cir2 = Circulo(6)\n",
    "\n",
    "print(cua.area(), cua.perimetro())\n",
    "print(rec.area(), rec.perimetro())\n",
    "print(cir.area(), cir.perimetro())\n",
    "print(cir2.area(), cir2.perimetro())\n",
    "\n",
    "print(cir + cir2)\n",
    "print(len(cir))  \n"
   ]
  },
  {
   "cell_type": "code",
   "execution_count": 17,
   "id": "93463f6a",
   "metadata": {},
   "outputs": [
    {
     "name": "stdout",
     "output_type": "stream",
     "text": [
      "Kimchi Caniche Guau True\n"
     ]
    }
   ],
   "source": [
    "class Perro:\n",
    "    sonido = \"Guau\"\n",
    "    cuadrupedo = True\n",
    "\n",
    "    def __init__(self, nombre, raza):\n",
    "        self.nombre = nombre\n",
    "        self.raza = raza\n",
    "\n",
    "kimchi = Perro(\"Kimchi\", \"Caniche\")        \n",
    "\n",
    "print(kimchi.nombre, kimchi.raza, kimchi.sonido, kimchi.cuadrupedo)"
   ]
  },
  {
   "cell_type": "markdown",
   "id": "50c7065d",
   "metadata": {},
   "source": [
    "# Herencia múltiple"
   ]
  },
  {
   "cell_type": "code",
   "execution_count": 19,
   "id": "43a2caf8",
   "metadata": {},
   "outputs": [
    {
     "name": "stdout",
     "output_type": "stream",
     "text": [
      "A cat.\n",
      "Cat cannot swim.\n",
      "Cat cannot fly.\n",
      "Cat is a mammal.\n",
      "Cat is an animal.\n",
      "\n",
      "Bat cannot swim.\n",
      "Bat is a mammal.\n",
      "Bat is an animal.\n"
     ]
    }
   ],
   "source": [
    "class Animals:\n",
    "    def __init__(self, animalsName):\n",
    "        print(animalsName, 'is an animal.');\n",
    "\n",
    "\n",
    "class Mammal(Animals):\n",
    "    def __init__(self, Name):\n",
    "        print(Name, 'is a mammal.')\n",
    "        super().__init__(Name)\n",
    "\n",
    "\n",
    "class donotFly(Mammal):\n",
    "      def __init__(self, name):\n",
    "        print(name, \"cannot fly.\")\n",
    "        super().__init__(name)\n",
    "\n",
    "\n",
    "class donotSwim(Mammal):\n",
    "    def __init__(self, name):\n",
    "        print(name, \"cannot swim.\")\n",
    "        super().__init__(name)\n",
    "\n",
    "\n",
    "class Cat(donotSwim, donotFly):\n",
    "    def __init__(self):\n",
    "        print('A cat.');\n",
    "        super().__init__('Cat')\n",
    "\n",
    "cat = Cat()\n",
    "print('')\n",
    "bat = donotSwim('Bat')"
   ]
  }
 ],
 "metadata": {
  "kernelspec": {
   "display_name": "base",
   "language": "python",
   "name": "python3"
  },
  "language_info": {
   "codemirror_mode": {
    "name": "ipython",
    "version": 3
   },
   "file_extension": ".py",
   "mimetype": "text/x-python",
   "name": "python",
   "nbconvert_exporter": "python",
   "pygments_lexer": "ipython3",
   "version": "3.12.7"
  }
 },
 "nbformat": 4,
 "nbformat_minor": 5
}
